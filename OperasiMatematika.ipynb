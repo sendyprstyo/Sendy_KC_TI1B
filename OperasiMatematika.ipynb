{
  "nbformat": 4,
  "nbformat_minor": 0,
  "metadata": {
    "colab": {
      "provenance": [],
      "toc_visible": true,
      "authorship_tag": "ABX9TyOujuBxQW6dn0le+ojEWNxn",
      "include_colab_link": true
    },
    "kernelspec": {
      "name": "python3",
      "display_name": "Python 3"
    },
    "language_info": {
      "name": "python"
    }
  },
  "cells": [
    {
      "cell_type": "markdown",
      "metadata": {
        "id": "view-in-github",
        "colab_type": "text"
      },
      "source": [
        "<a href=\"https://colab.research.google.com/github/sendyprstyo/Sendy_KC_TI1B/blob/main/OperasiMatematika.ipynb\" target=\"_parent\"><img src=\"https://colab.research.google.com/assets/colab-badge.svg\" alt=\"Open In Colab\"/></a>"
      ]
    },
    {
      "cell_type": "markdown",
      "source": [
        "# JOBSHEET 02\n",
        "\n",
        "# OPERASI MATEMATIKA, VEKTOR, MATRIKS DAN TIPE DATA"
      ],
      "metadata": {
        "id": "zAxnTAEar0hU"
      }
    },
    {
      "cell_type": "markdown",
      "source": [
        "## Operasi matematika menggunakan python"
      ],
      "metadata": {
        "id": "zUB5iyYlpAaR"
      }
    },
    {
      "cell_type": "code",
      "source": [
        "x = min(5, 10, 25)\n",
        "y = max(6, 12, 18)\n",
        "\n",
        "print(x, y)"
      ],
      "metadata": {
        "colab": {
          "base_uri": "https://localhost:8080/"
        },
        "id": "V_U1bZud0zzC",
        "outputId": "d412c5e1-fdcc-450e-dd17-56880da7dcc2"
      },
      "execution_count": 4,
      "outputs": [
        {
          "output_type": "stream",
          "name": "stdout",
          "text": [
            "5 18\n"
          ]
        }
      ]
    },
    {
      "cell_type": "code",
      "source": [
        "x = abs(-7.25)\n",
        "print(x)"
      ],
      "metadata": {
        "colab": {
          "base_uri": "https://localhost:8080/"
        },
        "id": "BUv4hq-p02YZ",
        "outputId": "54f39c02-d6a9-43cf-e67f-6bd76c2b7ed5"
      },
      "execution_count": 5,
      "outputs": [
        {
          "output_type": "stream",
          "name": "stdout",
          "text": [
            "7.25\n"
          ]
        }
      ]
    },
    {
      "cell_type": "code",
      "source": [
        "import math\n",
        "x = math.pow(4, 3)\n",
        "print(x)"
      ],
      "metadata": {
        "colab": {
          "base_uri": "https://localhost:8080/"
        },
        "id": "YV13tmlJ05ti",
        "outputId": "b733f819-fc37-4a35-9af1-88d8b2af8058"
      },
      "execution_count": 6,
      "outputs": [
        {
          "output_type": "stream",
          "name": "stdout",
          "text": [
            "64.0\n"
          ]
        }
      ]
    },
    {
      "cell_type": "code",
      "source": [
        "import math\n",
        "x = math.sqrt(64)\n",
        "print(x)"
      ],
      "metadata": {
        "colab": {
          "base_uri": "https://localhost:8080/"
        },
        "id": "XaMtwzWl0-S3",
        "outputId": "1b024131-37a8-4359-d2be-157295a3bcd3"
      },
      "execution_count": 7,
      "outputs": [
        {
          "output_type": "stream",
          "name": "stdout",
          "text": [
            "8.0\n"
          ]
        }
      ]
    },
    {
      "cell_type": "code",
      "source": [
        "import math\n",
        "x = math.ceil(1.4)\n",
        "y = math.floor(1.4)\n",
        "print(x,y)"
      ],
      "metadata": {
        "colab": {
          "base_uri": "https://localhost:8080/"
        },
        "id": "SgUdzVsF1AS1",
        "outputId": "d48a76ef-9035-446b-ba52-330a7219c19a"
      },
      "execution_count": 8,
      "outputs": [
        {
          "output_type": "stream",
          "name": "stdout",
          "text": [
            "2 1\n"
          ]
        }
      ]
    },
    {
      "cell_type": "code",
      "source": [
        "import math\n",
        "x = math.pi\n",
        "print(x)"
      ],
      "metadata": {
        "colab": {
          "base_uri": "https://localhost:8080/"
        },
        "id": "3An0dWjw1CMu",
        "outputId": "9af52af2-81c6-47ba-f001-41142fa2d0bf"
      },
      "execution_count": 9,
      "outputs": [
        {
          "output_type": "stream",
          "name": "stdout",
          "text": [
            "3.141592653589793\n"
          ]
        }
      ]
    },
    {
      "cell_type": "markdown",
      "source": [
        "## Menggunakan Fungsi MATH\n"
      ],
      "metadata": {
        "id": "Vazi9vZ2r6DW"
      }
    },
    {
      "cell_type": "code",
      "source": [
        "import math\n",
        "\n",
        "# Trigonometri\n",
        "angle_rad = math.radians(45)  # Konversi derajat ke radian\n",
        "print(\"sin(45°) =\", math.sin(angle_rad))\n",
        "print(\"cos(45°) =\", math.cos(angle_rad))\n",
        "print(\"tan(45°) =\", math.tan(angle_rad))\n",
        "\n",
        "# Logaritma\n",
        "print(\"\\nlog(10) =\", math.log(10))  # Logaritma natural (basis e)\n",
        "print(\"log10(100) =\", math.log10(100))  # Logaritma basis 10\n",
        "\n",
        "# Konversi Radian ke Derajat\n",
        "print(\"\\n90 radian dalam derajat =\", math.degrees(90))\n",
        "\n",
        "# Jarak antara dua titik dalam 2D\n",
        "point1 = (3, 4)\n",
        "point2 = (7, 1)\n",
        "print(\"\\nJarak antara\", point1, \"dan\", point2, \"=\", math.dist(point1, point2))\n",
        "\n",
        "# Faktorial\n",
        "print(\"\\nFaktorial 5 =\", math.factorial(5))\n",
        "\n",
        "# Modulo (Sisa pembagian)\n",
        "print(\"\\n10.5 mod 3 =\", math.fmod(10.5, 3))\n",
        "\n",
        "# Cek apakah NaN (Not a Number)\n",
        "print(\"\\nCek apakah NaN:\", math.isnan(float('nan')))\n",
        "\n",
        "# Fungsi Gamma (umum dalam matematika statistik)\n",
        "print(\"\\nGamma(5) =\", math.gamma(5))  # Harusnya hasilnya 4! = 24\n",
        "\n",
        "# Permutasi (P(n, r) = n! / (n-r)!)\n",
        "print(\"\\nPermutasi 5P3 =\", math.perm(5, 3))\n"
      ],
      "metadata": {
        "colab": {
          "base_uri": "https://localhost:8080/"
        },
        "id": "lRkfQPlhsIdc",
        "outputId": "d8b53ac7-6b04-45a0-97bf-41ccc28da4f6"
      },
      "execution_count": null,
      "outputs": [
        {
          "output_type": "stream",
          "name": "stdout",
          "text": [
            "sin(45°) = 0.7071067811865475\n",
            "cos(45°) = 0.7071067811865476\n",
            "tan(45°) = 0.9999999999999999\n",
            "\n",
            "log(10) = 2.302585092994046\n",
            "log10(100) = 2.0\n",
            "\n",
            "90 radian dalam derajat = 5156.620156177409\n",
            "\n",
            "Jarak antara (3, 4) dan (7, 1) = 5.0\n",
            "\n",
            "Faktorial 5 = 120\n",
            "\n",
            "10.5 mod 3 = 1.5\n",
            "\n",
            "Cek apakah NaN: True\n",
            "\n",
            "Gamma(5) = 24.0\n",
            "\n",
            "Permutasi 5P3 = 60\n"
          ]
        }
      ]
    },
    {
      "cell_type": "markdown",
      "source": [
        "## Operasi Matriks dan Vektor dengan python"
      ],
      "metadata": {
        "id": "gWV7UMrfsNyH"
      }
    },
    {
      "cell_type": "code",
      "source": [
        "import numpy as np\n",
        "\n",
        "# Operasi 1: Penjumlahan matriks\n",
        "A1 = np.array([[80, 30, 25], [50, 20, 10]])\n",
        "B1 = np.array([[30, 60, 15], [10, 30, 30]])\n",
        "hasil_penjumlahan = A1 + B1\n",
        "print(\"Hasil Penjumlahan Matriks:\\n\", hasil_penjumlahan)\n",
        "\n",
        "# Operasi 2: Perkalian dot product\n",
        "A2 = np.array([10, 20, 15])\n",
        "B2 = np.array([16, 67, 35])\n",
        "hasil_dot = np.dot(A2, B2)\n",
        "print(\"\\nHasil Dot Product:\", hasil_dot)\n",
        "\n",
        "# Operasi 3: Perkalian cross product\n",
        "hasil_cross = np.cross(A2, B2)\n",
        "print(\"\\nHasil Cross Product:\", hasil_cross)\n"
      ],
      "metadata": {
        "colab": {
          "base_uri": "https://localhost:8080/"
        },
        "id": "tfxoppoKpOhZ",
        "outputId": "0b3e1154-eda8-4c30-e269-7a7bb60af2c1"
      },
      "execution_count": null,
      "outputs": [
        {
          "output_type": "stream",
          "name": "stdout",
          "text": [
            "Hasil Penjumlahan Matriks:\n",
            " [[110  90  40]\n",
            " [ 60  50  40]]\n",
            "\n",
            "Hasil Dot Product: 2025\n",
            "\n",
            "Hasil Cross Product: [-305 -110  350]\n"
          ]
        }
      ]
    },
    {
      "cell_type": "markdown",
      "source": [
        "# Tugas Praktikum"
      ],
      "metadata": {
        "id": "njTi9STwsVmj"
      }
    },
    {
      "cell_type": "code",
      "source": [
        "import numpy as np\n",
        "\n",
        "A = np.array([[3, 1],\n",
        "              [2, 0]])\n",
        "\n",
        "B = np.array([[2, 1],\n",
        "              [1, -1]])\n",
        "\n",
        "C = np.array([[-1, 1, 2],\n",
        "              [2, 0, -1]])\n",
        "\n",
        "AxB = np.dot(A, B)\n",
        "BxC = np.dot(B, C)\n",
        "\n",
        "print(\"Matriks A:\")\n",
        "print(A)\n",
        "\n",
        "print(\"\\nMatriks B:\")\n",
        "print(B)\n",
        "\n",
        "print(\"\\nMatriks C:\")\n",
        "print(C)\n",
        "\n",
        "print(\"\\nHasil A × B:\")\n",
        "print(AxB)\n",
        "\n",
        "print(\"\\nHasil B × C:\")\n",
        "print(BxC)\n"
      ],
      "metadata": {
        "id": "eXNeaqjasaus",
        "colab": {
          "base_uri": "https://localhost:8080/"
        },
        "outputId": "29c2e696-a8b1-4b1d-df9b-5902933211a3"
      },
      "execution_count": 11,
      "outputs": [
        {
          "output_type": "stream",
          "name": "stdout",
          "text": [
            "Matriks A:\n",
            "[[3 1]\n",
            " [2 0]]\n",
            "\n",
            "Matriks B:\n",
            "[[ 2  1]\n",
            " [ 1 -1]]\n",
            "\n",
            "Matriks C:\n",
            "[[-1  1  2]\n",
            " [ 2  0 -1]]\n",
            "\n",
            "Hasil A × B:\n",
            "[[7 2]\n",
            " [4 2]]\n",
            "\n",
            "Hasil B × C:\n",
            "[[ 0  2  3]\n",
            " [-3  1  3]]\n"
          ]
        }
      ]
    },
    {
      "cell_type": "code",
      "source": [
        "import math\n",
        "\n",
        "a = math.factorial(6)\n",
        "b = math.factorial(8) / math.factorial(5)\n",
        "\n",
        "print(\"a. 6! =\", a)\n",
        "print(\"b. 8! / 5! =\", b)\n"
      ],
      "metadata": {
        "colab": {
          "base_uri": "https://localhost:8080/"
        },
        "id": "pmCGnARhvuYF",
        "outputId": "4961c009-a192-4382-cc8e-1faa5d370a14"
      },
      "execution_count": 12,
      "outputs": [
        {
          "output_type": "stream",
          "name": "stdout",
          "text": [
            "a. 6! = 720\n",
            "b. 8! / 5! = 336.0\n"
          ]
        }
      ]
    },
    {
      "cell_type": "code",
      "source": [
        "import numpy as np\n",
        "\n",
        "A = np.array([5, 3, 7])\n",
        "B = np.array([12, -3, 1])\n",
        "\n",
        "magnitude_A = np.linalg.norm(A)\n",
        "magnitude_B = np.linalg.norm(B)\n",
        "\n",
        "dot_product = np.dot(A, B)\n",
        "\n",
        "cross_product = np.cross(A, B)\n",
        "\n",
        "print(\"Panjang Vektor A:\", round(magnitude_A, 2))\n",
        "print(\"Panjang Vektor B:\", round(magnitude_B, 2))\n",
        "print(\"\\nHasil Perkalian Titik (A . B):\", dot_product)\n",
        "print(\"\\nHasil Perkalian Silang (A × B):\", cross_product)"
      ],
      "metadata": {
        "colab": {
          "base_uri": "https://localhost:8080/"
        },
        "id": "RF5IpZzBwSro",
        "outputId": "ab658f81-773b-451c-c9bf-920ba5e19639"
      },
      "execution_count": 13,
      "outputs": [
        {
          "output_type": "stream",
          "name": "stdout",
          "text": [
            "Panjang Vektor A: 9.11\n",
            "Panjang Vektor B: 12.41\n",
            "\n",
            "Hasil Perkalian Titik (A . B): 58\n",
            "\n",
            "Hasil Perkalian Silang (A × B): [ 24  79 -51]\n"
          ]
        }
      ]
    }
  ]
}