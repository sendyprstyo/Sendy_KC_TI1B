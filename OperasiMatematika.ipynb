{
  "nbformat": 4,
  "nbformat_minor": 0,
  "metadata": {
    "colab": {
      "provenance": [],
      "toc_visible": true,
      "authorship_tag": "ABX9TyM9mR/Lvqhac1xHj+49WteI",
      "include_colab_link": true
    },
    "kernelspec": {
      "name": "python3",
      "display_name": "Python 3"
    },
    "language_info": {
      "name": "python"
    }
  },
  "cells": [
    {
      "cell_type": "markdown",
      "metadata": {
        "id": "view-in-github",
        "colab_type": "text"
      },
      "source": [
        "<a href=\"https://colab.research.google.com/github/sendyprstyo/Sendy_KC_TI1B/blob/main/OperasiMatematika.ipynb\" target=\"_parent\"><img src=\"https://colab.research.google.com/assets/colab-badge.svg\" alt=\"Open In Colab\"/></a>"
      ]
    },
    {
      "cell_type": "markdown",
      "source": [
        "# JOBSHEET 01"
      ],
      "metadata": {
        "id": "zAxnTAEar0hU"
      }
    },
    {
      "cell_type": "markdown",
      "source": [
        "## Operasi matematika menggunakan python"
      ],
      "metadata": {
        "id": "zUB5iyYlpAaR"
      }
    },
    {
      "cell_type": "code",
      "execution_count": null,
      "metadata": {
        "colab": {
          "base_uri": "https://localhost:8080/"
        },
        "id": "s_F87boNnx4Y",
        "outputId": "996079cc-0d93-41fc-a01d-008cfe554005"
      },
      "outputs": [
        {
          "output_type": "stream",
          "name": "stdout",
          "text": [
            "Nilai minimum: 5\n",
            "Nilai maksimum: 18\n",
            "Nilai absolut: 7.25\n",
            "Nilai pangkat (4^3): 64.0\n",
            "Nilai akar (√64): 8.0\n",
            "Pembulatan ke atas (ceil 1.4): 2\n",
            "Pembulatan ke bawah (floor 1.4): 1\n"
          ]
        }
      ],
      "source": [
        "import math\n",
        "\n",
        "# a. Mendapatkan nilai minimum dan maksimum\n",
        "x_min = min(5, 10, 25)\n",
        "y_max = max(6, 12, 18)\n",
        "\n",
        "# b. Mendapatkan nilai absolut\n",
        "x_abs = abs(-7.25)\n",
        "\n",
        "# c. Mendapatkan nilai pangkat\n",
        "x_pow = math.pow(4, 3)  # 4^3 = 64\n",
        "\n",
        "# d. Mendapatkan nilai akar\n",
        "x_sqrt = math.sqrt(64)  # √64 = 8\n",
        "\n",
        "# e. Mendapatkan nilai pembulatan\n",
        "x_ceil = math.ceil(1.4)  # Dibulatkan ke atas -> 2\n",
        "y_floor = math.floor(1.4)  # Dibulatkan ke bawah -> 1\n",
        "\n",
        "# Menampilkan hasil\n",
        "print(f\"Nilai minimum: {x_min}\")\n",
        "print(f\"Nilai maksimum: {y_max}\")\n",
        "print(f\"Nilai absolut: {x_abs}\")\n",
        "print(f\"Nilai pangkat (4^3): {x_pow}\")\n",
        "print(f\"Nilai akar (√64): {x_sqrt}\")\n",
        "print(f\"Pembulatan ke atas (ceil 1.4): {x_ceil}\")\n",
        "print(f\"Pembulatan ke bawah (floor 1.4): {y_floor}\")\n"
      ]
    },
    {
      "cell_type": "markdown",
      "source": [
        "## Menggunakan Fungsi MATH\n"
      ],
      "metadata": {
        "id": "Vazi9vZ2r6DW"
      }
    },
    {
      "cell_type": "code",
      "source": [
        "import math\n",
        "\n",
        "# Trigonometri\n",
        "angle_rad = math.radians(45)  # Konversi derajat ke radian\n",
        "print(\"sin(45°) =\", math.sin(angle_rad))\n",
        "print(\"cos(45°) =\", math.cos(angle_rad))\n",
        "print(\"tan(45°) =\", math.tan(angle_rad))\n",
        "\n",
        "# Logaritma\n",
        "print(\"\\nlog(10) =\", math.log(10))  # Logaritma natural (basis e)\n",
        "print(\"log10(100) =\", math.log10(100))  # Logaritma basis 10\n",
        "\n",
        "# Konversi Radian ke Derajat\n",
        "print(\"\\n90 radian dalam derajat =\", math.degrees(90))\n",
        "\n",
        "# Jarak antara dua titik dalam 2D\n",
        "point1 = (3, 4)\n",
        "point2 = (7, 1)\n",
        "print(\"\\nJarak antara\", point1, \"dan\", point2, \"=\", math.dist(point1, point2))\n",
        "\n",
        "# Faktorial\n",
        "print(\"\\nFaktorial 5 =\", math.factorial(5))\n",
        "\n",
        "# Modulo (Sisa pembagian)\n",
        "print(\"\\n10.5 mod 3 =\", math.fmod(10.5, 3))\n",
        "\n",
        "# Cek apakah NaN (Not a Number)\n",
        "print(\"\\nCek apakah NaN:\", math.isnan(float('nan')))\n",
        "\n",
        "# Fungsi Gamma (umum dalam matematika statistik)\n",
        "print(\"\\nGamma(5) =\", math.gamma(5))  # Harusnya hasilnya 4! = 24\n",
        "\n",
        "# Permutasi (P(n, r) = n! / (n-r)!)\n",
        "print(\"\\nPermutasi 5P3 =\", math.perm(5, 3))\n"
      ],
      "metadata": {
        "colab": {
          "base_uri": "https://localhost:8080/"
        },
        "id": "lRkfQPlhsIdc",
        "outputId": "d8b53ac7-6b04-45a0-97bf-41ccc28da4f6"
      },
      "execution_count": null,
      "outputs": [
        {
          "output_type": "stream",
          "name": "stdout",
          "text": [
            "sin(45°) = 0.7071067811865475\n",
            "cos(45°) = 0.7071067811865476\n",
            "tan(45°) = 0.9999999999999999\n",
            "\n",
            "log(10) = 2.302585092994046\n",
            "log10(100) = 2.0\n",
            "\n",
            "90 radian dalam derajat = 5156.620156177409\n",
            "\n",
            "Jarak antara (3, 4) dan (7, 1) = 5.0\n",
            "\n",
            "Faktorial 5 = 120\n",
            "\n",
            "10.5 mod 3 = 1.5\n",
            "\n",
            "Cek apakah NaN: True\n",
            "\n",
            "Gamma(5) = 24.0\n",
            "\n",
            "Permutasi 5P3 = 60\n"
          ]
        }
      ]
    },
    {
      "cell_type": "markdown",
      "source": [
        "## Operasi Matriks dan Vektor dengan python"
      ],
      "metadata": {
        "id": "gWV7UMrfsNyH"
      }
    },
    {
      "cell_type": "code",
      "source": [
        "import numpy as np\n",
        "\n",
        "# Operasi 1: Penjumlahan matriks\n",
        "A1 = np.array([[80, 30, 25], [50, 20, 10]])\n",
        "B1 = np.array([[30, 60, 15], [10, 30, 30]])\n",
        "hasil_penjumlahan = A1 + B1\n",
        "print(\"Hasil Penjumlahan Matriks:\\n\", hasil_penjumlahan)\n",
        "\n",
        "# Operasi 2: Perkalian dot product\n",
        "A2 = np.array([10, 20, 15])\n",
        "B2 = np.array([16, 67, 35])\n",
        "hasil_dot = np.dot(A2, B2)\n",
        "print(\"\\nHasil Dot Product:\", hasil_dot)\n",
        "\n",
        "# Operasi 3: Perkalian cross product\n",
        "hasil_cross = np.cross(A2, B2)\n",
        "print(\"\\nHasil Cross Product:\", hasil_cross)\n"
      ],
      "metadata": {
        "colab": {
          "base_uri": "https://localhost:8080/"
        },
        "id": "tfxoppoKpOhZ",
        "outputId": "0b3e1154-eda8-4c30-e269-7a7bb60af2c1"
      },
      "execution_count": null,
      "outputs": [
        {
          "output_type": "stream",
          "name": "stdout",
          "text": [
            "Hasil Penjumlahan Matriks:\n",
            " [[110  90  40]\n",
            " [ 60  50  40]]\n",
            "\n",
            "Hasil Dot Product: 2025\n",
            "\n",
            "Hasil Cross Product: [-305 -110  350]\n"
          ]
        }
      ]
    },
    {
      "cell_type": "markdown",
      "source": [
        "# Tugas Praktikum"
      ],
      "metadata": {
        "id": "njTi9STwsVmj"
      }
    },
    {
      "cell_type": "code",
      "source": [],
      "metadata": {
        "id": "eXNeaqjasaus"
      },
      "execution_count": null,
      "outputs": []
    }
  ]
}