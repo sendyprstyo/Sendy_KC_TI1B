{
  "nbformat": 4,
  "nbformat_minor": 0,
  "metadata": {
    "colab": {
      "provenance": [],
      "toc_visible": true,
      "authorship_tag": "ABX9TyNjA424iuYYyGEwxitNCicL",
      "include_colab_link": true
    },
    "kernelspec": {
      "name": "python3",
      "display_name": "Python 3"
    },
    "language_info": {
      "name": "python"
    }
  },
  "cells": [
    {
      "cell_type": "markdown",
      "metadata": {
        "id": "view-in-github",
        "colab_type": "text"
      },
      "source": [
        "<a href=\"https://colab.research.google.com/github/sendyprstyo/Sendy_KC_TI1B/blob/main/statistik_deskriptif.ipynb\" target=\"_parent\"><img src=\"https://colab.research.google.com/assets/colab-badge.svg\" alt=\"Open In Colab\"/></a>"
      ]
    },
    {
      "cell_type": "markdown",
      "source": [
        "# PENGUKURAN STATISTIK DESKRIPTIF"
      ],
      "metadata": {
        "id": "GRwkNW-3BAmy"
      }
    },
    {
      "cell_type": "markdown",
      "source": [
        "##  1. Central Tendency"
      ],
      "metadata": {
        "id": "TBzQ0mpCBQX9"
      }
    },
    {
      "cell_type": "code",
      "source": [
        "import numpy as np\n",
        "\n",
        "score = [90, 80, 70, 65, 110, 80, 83, 67, 94]\n",
        "\n",
        "x = np.mean(score)\n",
        "print(\"Rata-rata skor:\", x)\n"
      ],
      "metadata": {
        "colab": {
          "base_uri": "https://localhost:8080/"
        },
        "id": "AC2hun8BBSlW",
        "outputId": "cc714110-d23b-4485-bccb-411d9a74d435"
      },
      "execution_count": 1,
      "outputs": [
        {
          "output_type": "stream",
          "name": "stdout",
          "text": [
            "Rata-rata skor: 82.11111111111111\n"
          ]
        }
      ]
    },
    {
      "cell_type": "code",
      "source": [
        "import numpy as np\n",
        "\n",
        "score = [90, 80, 70, 65, 110, 80, 83, 67, 94]\n",
        "\n",
        "x = np.median(score)\n",
        "print(\"Median skor:\", x)"
      ],
      "metadata": {
        "colab": {
          "base_uri": "https://localhost:8080/"
        },
        "id": "d8VjcXkUBcIH",
        "outputId": "883ce5da-b997-4abf-e218-ad77aae7664a"
      },
      "execution_count": 2,
      "outputs": [
        {
          "output_type": "stream",
          "name": "stdout",
          "text": [
            "Median skor: 80.0\n"
          ]
        }
      ]
    },
    {
      "cell_type": "code",
      "source": [
        "from scipy import stats\n",
        "\n",
        "score = [90, 80, 70, 65, 110, 80, 83, 67, 94]\n",
        "\n",
        "x = stats.mode(score, keepdims=True)\n",
        "print(\"Modus skor:\", x)"
      ],
      "metadata": {
        "colab": {
          "base_uri": "https://localhost:8080/"
        },
        "id": "len8igkjBe18",
        "outputId": "498eb551-bb49-4693-cd30-6e1536f3ae1b"
      },
      "execution_count": 3,
      "outputs": [
        {
          "output_type": "stream",
          "name": "stdout",
          "text": [
            "Modus skor: ModeResult(mode=array([80]), count=array([2]))\n"
          ]
        }
      ]
    },
    {
      "cell_type": "markdown",
      "source": [
        "## 2. Spread"
      ],
      "metadata": {
        "id": "AZw0_ggEBnh7"
      }
    },
    {
      "cell_type": "code",
      "source": [
        "import numpy as np\n",
        "\n",
        "data = [2, 3, 7, 8, 9, 12, 15, 20, 50, 42]\n",
        "\n",
        "minimum = np.min(data)\n",
        "maximum = np.max(data)\n",
        "x = maximum - minimum\n",
        "print(\"Range (selisih maksimum dan minimum):\", x)\n"
      ],
      "metadata": {
        "colab": {
          "base_uri": "https://localhost:8080/"
        },
        "id": "uqq05g6pBp-R",
        "outputId": "f362a9dd-5d5d-434e-84d3-689c52583abf"
      },
      "execution_count": 11,
      "outputs": [
        {
          "output_type": "stream",
          "name": "stdout",
          "text": [
            "Range (selisih maksimum dan minimum): 48\n"
          ]
        }
      ]
    },
    {
      "cell_type": "code",
      "source": [
        "import numpy as np\n",
        "\n",
        "data = [90, 80, 70, 65, 110, 80, 83, 67, 94]\n",
        "\n",
        "x = np.percentile(data, 90)\n",
        "print(\"Persentil ke-90:\", x)"
      ],
      "metadata": {
        "colab": {
          "base_uri": "https://localhost:8080/"
        },
        "id": "plOQlC24Bu4g",
        "outputId": "87d6366b-0012-4bcd-eb6b-a6096d0d1370"
      },
      "execution_count": 12,
      "outputs": [
        {
          "output_type": "stream",
          "name": "stdout",
          "text": [
            "Persentil ke-90: 97.2\n"
          ]
        }
      ]
    },
    {
      "cell_type": "code",
      "source": [
        "import numpy as np\n",
        "\n",
        "data = [3, 4, 4, 5, 5, 6, 6, 7, 8, 8, 9, 10]\n",
        "\n",
        "Q1 = np.median(data[:int(len(data)/2)])\n",
        "Q3 = np.median(data[int(len(data)/2):])\n",
        "IQR = Q3 - Q1\n",
        "print(\"Q1:\", Q1)\n",
        "print(\"Q3:\", Q3)\n",
        "print(\"IQR:\", IQR)"
      ],
      "metadata": {
        "colab": {
          "base_uri": "https://localhost:8080/"
        },
        "id": "nRyHN6n1BxYv",
        "outputId": "7047088b-3f8e-48cb-c2d9-1a525bcf931a"
      },
      "execution_count": 13,
      "outputs": [
        {
          "output_type": "stream",
          "name": "stdout",
          "text": [
            "Q1: 4.5\n",
            "Q3: 8.0\n",
            "IQR: 3.5\n"
          ]
        }
      ]
    },
    {
      "cell_type": "code",
      "source": [
        "import numpy as np\n",
        "\n",
        "data = [86, 87, 88, 86, 87, 85, 86]\n",
        "\n",
        "mean = np.mean(data)\n",
        "var = np.var(data)\n",
        "std = np.std(data)\n",
        "print(\"Mean:\", mean)\n",
        "print(\"Variance:\", var)\n",
        "print(\"Standard Deviation:\", std)"
      ],
      "metadata": {
        "colab": {
          "base_uri": "https://localhost:8080/"
        },
        "id": "X9_pstDVB0qk",
        "outputId": "84bf3d8a-3cd6-4b31-8cd6-dd3c907fe6f8"
      },
      "execution_count": 10,
      "outputs": [
        {
          "output_type": "stream",
          "name": "stdout",
          "text": [
            "Mean: 86.42857142857143\n",
            "Variance: 0.8163265306122449\n",
            "Standard Deviation: 0.9035079029052513\n"
          ]
        }
      ]
    },
    {
      "cell_type": "markdown",
      "source": [
        "## Tugas Praktikum"
      ],
      "metadata": {
        "id": "HdNGHLiCCBcH"
      }
    },
    {
      "cell_type": "code",
      "source": [
        "# NOMER 1\n",
        "from scipy import stats\n",
        "\n",
        "data = [1, 2, 3, 4, 5, 5, 6, 2, 3, 4, 5, 6, 6, 4, 3, 2, 1, 4, 3, 5, 6, 6, 5, 4, 5]\n",
        "\n",
        "x = stats.mode(data, keepdims=True)\n",
        "print(\"Modus:\", x.mode[0])\n",
        "print(\"Jumlah kemunculan:\", x.count[0])"
      ],
      "metadata": {
        "colab": {
          "base_uri": "https://localhost:8080/"
        },
        "id": "FZt_d2oFCFEW",
        "outputId": "e965bbf6-e27f-405c-ef0d-f60cf52853f4"
      },
      "execution_count": 9,
      "outputs": [
        {
          "output_type": "stream",
          "name": "stdout",
          "text": [
            "Modus: 5\n",
            "Jumlah kemunculan: 6\n"
          ]
        }
      ]
    },
    {
      "cell_type": "code",
      "source": [
        "# NOMER 2\n",
        "import numpy as np\n",
        "\n",
        "data = [9, 10, 11, 6, 8, 7, 7, 5, 4, 5]\n",
        "\n",
        "p25 = np.percentile(data, 25)\n",
        "p75 = np.percentile(data, 75)\n",
        "print(\"Persentil ke-25:\", p25)\n",
        "print(\"Persentil ke-75:\", p75)"
      ],
      "metadata": {
        "colab": {
          "base_uri": "https://localhost:8080/"
        },
        "id": "TlQPRMx-CKSf",
        "outputId": "ae674ce2-55ef-4f8b-922b-31b888d55b2a"
      },
      "execution_count": 8,
      "outputs": [
        {
          "output_type": "stream",
          "name": "stdout",
          "text": [
            "Persentil ke-25: 5.25\n",
            "Persentil ke-75: 8.75\n"
          ]
        }
      ]
    },
    {
      "cell_type": "code",
      "source": [
        "# NOMER 3\n",
        "import numpy as np\n",
        "\n",
        "# data ujian\n",
        "data = [50, 54, 62, 50, 52, 59, 61, 63, 65, 10, 53, 63, 65, 50, 59, 62, 50, 51, 57, 60, 63, 65, 65, 53, 99]\n",
        "\n",
        "# a. urutkan data\n",
        "data_sorted = sorted(data)\n",
        "print(\"a. Data Terurut:\")\n",
        "print(data_sorted)\n",
        "\n",
        "# b. hitung Q1, Q3, dan IQR\n",
        "q1 = np.percentile(data_sorted, 25)\n",
        "q3 = np.percentile(data_sorted, 75)\n",
        "iqr = q3 - q1\n",
        "\n",
        "print(\"\\nb. Q1:\", q1)\n",
        "print(\"   Q3:\", q3)\n",
        "print(\"   IQR:\", iqr)\n",
        "\n",
        "# c. hitung lower bound dan upper bound\n",
        "lower_bound = q1 - 1.5 * iqr\n",
        "upper_bound = q3 + 1.5 * iqr\n",
        "\n",
        "print(\"\\nc. Lower Bound:\", lower_bound)\n",
        "print(\"   Upper Bound:\", upper_bound)\n",
        "\n",
        "# d. cari outlier\n",
        "outliers = [x for x in data_sorted if x < lower_bound or x > upper_bound]\n",
        "print(\"\\nd. Outlier:\")\n",
        "print(outliers)\n"
      ],
      "metadata": {
        "colab": {
          "base_uri": "https://localhost:8080/"
        },
        "id": "zQH-XtsDCNtm",
        "outputId": "312796ce-8f71-4df2-a118-0baac8280479"
      },
      "execution_count": 5,
      "outputs": [
        {
          "output_type": "stream",
          "name": "stdout",
          "text": [
            "a. Data Terurut:\n",
            "[10, 50, 50, 50, 50, 51, 52, 53, 53, 54, 57, 59, 59, 60, 61, 62, 62, 63, 63, 63, 65, 65, 65, 65, 99]\n",
            "\n",
            "b. Q1: 52.0\n",
            "   Q3: 63.0\n",
            "   IQR: 11.0\n",
            "\n",
            "c. Lower Bound: 35.5\n",
            "   Upper Bound: 79.5\n",
            "\n",
            "d. Outlier:\n",
            "[10, 99]\n"
          ]
        }
      ]
    },
    {
      "cell_type": "code",
      "source": [
        "# NOMER 4\n",
        "import numpy as np\n",
        "\n",
        "# batas kelas dan frekuensi\n",
        "kelas = [(41, 45), (46, 50), (50, 55), (56, 60), (61, 65), (66, 70)]\n",
        "frekuensi = [2, 3, 6, 4, 5, 2]\n",
        "\n",
        "# hitung titik tengah\n",
        "titik_tengah = [ (bawah + atas) / 2 for bawah, atas in kelas ]\n",
        "\n",
        "# hitung f * xi dan f * xi^2\n",
        "fx = [f * x for f, x in zip(frekuensi, titik_tengah)]\n",
        "fx2 = [f * x**2 for f, x in zip(frekuensi, titik_tengah)]\n",
        "\n",
        "# jumlah frekuensi\n",
        "total_f = sum(frekuensi)\n",
        "\n",
        "# rumus standar deviasi\n",
        "rata_rata_kuadrat = sum(fx2) / total_f\n",
        "kuadrat_rata_rata = (sum(fx) / total_f) ** 2\n",
        "std_dev = np.sqrt(rata_rata_kuadrat - kuadrat_rata_rata)\n",
        "\n",
        "print(\"Standar Deviasi Berat Badan:\", round(std_dev, 2))\n"
      ],
      "metadata": {
        "colab": {
          "base_uri": "https://localhost:8080/"
        },
        "id": "GVEgKx6hCOnx",
        "outputId": "a9481e80-2e60-43cf-dea9-83fc77c16bf6"
      },
      "execution_count": 4,
      "outputs": [
        {
          "output_type": "stream",
          "name": "stdout",
          "text": [
            "Standar Deviasi Berat Badan: 7.24\n"
          ]
        }
      ]
    }
  ]
}